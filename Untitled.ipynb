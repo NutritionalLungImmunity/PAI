{
 "cells": [
  {
   "cell_type": "code",
   "execution_count": 28,
   "id": "17de1cac-8e3c-474a-b67b-92b7a276876b",
   "metadata": {
    "tags": []
   },
   "outputs": [],
   "source": [
    "import pandas as pd\n",
    "import collections\n",
    "import timeit\n",
    "from scipy.integrate import odeint\n",
    "import matplotlib.pyplot as plt\n",
    "import networkx as nx\n",
    "import matplotlib.mlab as mlab\n",
    "import statistics\n",
    "import random\n",
    "import numpy.linalg\n",
    "import numpy as np\n",
    "import sys\n",
    "from scipy.optimize import minimize\n",
    "elapsed_time = timeit.default_timer()\n",
    "from sklearn.linear_model import LinearRegression\n",
    "from sklearn import cluster\n",
    "import seaborn as sns\n",
    "sns.set()\n",
    "from sklearn import datasets\n",
    "from sklearn.metrics import r2_score\n",
    "from matplotlib import pylab\n",
    "from matplotlib import pyplot as plt\n",
    "from matplotlib import font_manager\n",
    "import multiprocessing\n",
    "from multiprocessing import Pool\n",
    "import itertools\n",
    "%matplotlib inline"
   ]
  },
  {
   "cell_type": "code",
   "execution_count": 9,
   "id": "3ec438d8-64db-4f5d-8da3-fa48debae405",
   "metadata": {
    "tags": []
   },
   "outputs": [],
   "source": [
    "def get_reactors(reac):\n",
    "    reac_split = reac.split(' ')\n",
    "    reactors = []\n",
    "    for k in reac_split:\n",
    "        if k != '&' and k!= '=>':\n",
    "            reactors.append(k)\n",
    "    return reactors[:-1]\n",
    "\n",
    "\n",
    "def Hill(reactor, n, EC50):\n",
    "    B = (EC50**n-1)/(2*EC50**n-1)\n",
    "    C = (B-1)**(1/n)\n",
    "    if reactor[0] == '!':\n",
    "        m = max(globals()['{}'.format(reactor[1:])], 0)\n",
    "        return (1-B*m**n/(C**n + m**n))\n",
    "    else:\n",
    "        m = max(globals()['{}'.format(reactor)], 0)\n",
    "        return B*m**n/(C**n + m**n)\n",
    "    \n",
    "# def Hill(reactor, n, EC50):\n",
    "#     B = (EC50**n-1)/(2*EC50**n-1)\n",
    "#     C = (B-1)**(1/n)\n",
    "#     if reactor[0] == '!':\n",
    "#         return (1-B*globals()['{}'.format(reactor[1:])]**n/(C**n + globals()['{}'.format(reactor[1:])]**n))\n",
    "#     else:\n",
    "#         return B*globals()['{}'.format(reactor)]**n/(C**n + globals()['{}'.format(reactor)]**n)\n",
    "\n",
    "\n",
    "\n",
    "def OR(reaction_list):\n",
    "    tera = (-1)**(len(reaction_list)+1)\n",
    "    for k in reaction_list:\n",
    "        weight, n, EC50 = reaction_list[k]\n",
    "        final = weight\n",
    "        for j in get_reactors(k):\n",
    "            final *= Hill(j, n, EC50)\n",
    "        tera *= (final-1)\n",
    "    tera +=1\n",
    "    return tera"
   ]
  },
  {
   "cell_type": "code",
   "execution_count": 10,
   "id": "9259c331-62f9-4fa9-b1fc-36ad0d342928",
   "metadata": {
    "tags": []
   },
   "outputs": [],
   "source": [
    "def inte(state, t, reaction_dict):\n",
    "    for i in range(len(node_ID)):\n",
    "        globals()['{}'.format(node_ID[i])] = state[i]\n",
    "    for i in range(len(node_ID)):\n",
    "        if len(reaction_dict[node_ID[i]]) == 1:\n",
    "            reactors = get_reactors(list(reaction_dict[node_ID[i]].keys())[0])\n",
    "            weight, n, EC50 = reaction_dict[node_ID[i]][list(reaction_dict[node_ID[i]].keys())[0]]\n",
    "            TF = 1\n",
    "            for j in reactors:\n",
    "                TF *= Hill(j, n, EC50)\n",
    "            globals()['{}'.format(node_ID[i] + 'd')] = (TF*weight*Ymax[i]-globals()['{}'.format(node_ID[i])])/tau[i]\n",
    "        else:\n",
    "            TF = OR(reaction_dict[node_ID[i]])\n",
    "            globals()['{}'.format(node_ID[i] + 'd')] = (TF*Ymax[i]-globals()['{}'.format(node_ID[i])])/tau[i]\n",
    "    return [globals()['{}'.format(k+ 'd')] for k in node_ID]"
   ]
  },
  {
   "cell_type": "code",
   "execution_count": 14,
   "id": "bccff125-a268-4b07-972a-8a65d8e4adee",
   "metadata": {
    "tags": []
   },
   "outputs": [],
   "source": [
    "reactions_raw = pd.read_excel('/Users/henriquedeassis/Documents/PAFModel_split_final_v8.xlsx', sheet_name = 1, skiprows = 1, header = 0)\n",
    "species_raw = pd.read_excel('/Users/henriquedeassis/Documents/PAFModel_split_final_v8.xlsx', sheet_name = 0, skiprows = 1, header = 0)"
   ]
  },
  {
   "cell_type": "code",
   "execution_count": 15,
   "id": "7e035021-67f3-4eb5-aea9-c37ae028d0b0",
   "metadata": {
    "tags": []
   },
   "outputs": [],
   "source": [
    "species = species_raw[['ID', 'Yinit', 'Ymax', 'tau']]\n",
    "node_ID = species['ID'].tolist()\n",
    "Yinit = species['Yinit'].tolist()\n",
    "Ymax = species['Ymax'].tolist()\n",
    "tau = species['tau'].tolist()"
   ]
  },
  {
   "cell_type": "code",
   "execution_count": 22,
   "id": "9cb777d6-5b06-4a4b-b862-3423b429386a",
   "metadata": {
    "tags": []
   },
   "outputs": [],
   "source": [
    "species_dict = dict()\n",
    "for k in range(len(species)):\n",
    "    #lis = species.loc[k, ['Yinit', 'Ymax', 'tau']].tolist()\n",
    "    species_dict[species.loc[k, 'ID']] = species.loc[k, ['Yinit', 'Ymax', 'tau']].tolist()\n",
    "\n",
    "state0 = []\n",
    "for k in range(len(node_ID)):\n",
    "    state0.append(Yinit[k])"
   ]
  },
  {
   "cell_type": "code",
   "execution_count": 23,
   "id": "b452e1c3-2f28-4e85-b6bf-f505f6c92ff7",
   "metadata": {
    "tags": []
   },
   "outputs": [],
   "source": [
    "reactions = {\n",
    "    'rule':reactions_raw['Rule'].tolist(), \n",
    "    'weight':reactions_raw['Weight'].tolist(), \n",
    "    'n':reactions_raw['n'].tolist(), \n",
    "    'EC50':reactions_raw['EC50'].tolist()\n",
    "}\n",
    "reactions = pd.DataFrame(data = reactions)\n",
    "reaction_dict = collections.defaultdict(dict)\n",
    "for k in range(len(reactions)):\n",
    "    node = reactions.loc[k, 'rule'].split(' ')\n",
    "    reaction_dict[node[-1]][reactions.loc[k, 'rule']] = reactions.loc[k, ['weight', 'n', 'EC50']].tolist() "
   ]
  },
  {
   "cell_type": "code",
   "execution_count": 25,
   "id": "91f13cf0-d182-42a9-9b81-71e0f0bcd34f",
   "metadata": {
    "tags": []
   },
   "outputs": [],
   "source": [
    "result = 0\n",
    "total = 0\n",
    "t = np.arange(0.0, 60.0*24, 0.1)\n",
    "simu_data = odeint(inte, state0, t, args = (reaction_dict, ))"
   ]
  },
  {
   "cell_type": "code",
   "execution_count": 26,
   "id": "7b345a99-b686-4510-bc65-5e5a3b8bfaf9",
   "metadata": {
    "tags": []
   },
   "outputs": [
    {
     "name": "stdout",
     "output_type": "stream",
     "text": [
      "[[0.00000000e+00 0.00000000e+00 0.00000000e+00 ... 0.00000000e+00\n",
      "  0.00000000e+00 0.00000000e+00]\n",
      " [2.41349780e-02 1.82439130e-03 1.06149679e-04 ... 3.15404044e-05\n",
      "  1.79944835e-03 3.10762154e-05]\n",
      " [4.69937573e-02 7.38818361e-03 6.94799458e-04 ... 3.98490756e-04\n",
      "  7.11872500e-03 3.82531328e-04]\n",
      " ...\n",
      " [4.56881627e-01 3.43738332e-01 2.10691752e-01 ... 2.31908697e-01\n",
      "  1.49025364e-01 7.24656000e-02]\n",
      " [4.56881627e-01 3.43738332e-01 2.10691752e-01 ... 2.31908697e-01\n",
      "  1.49025364e-01 7.24656000e-02]\n",
      " [4.56881627e-01 3.43738332e-01 2.10691752e-01 ... 2.31908697e-01\n",
      "  1.49025364e-01 7.24656000e-02]]\n"
     ]
    }
   ],
   "source": [
    "print(simu_data)"
   ]
  },
  {
   "cell_type": "code",
   "execution_count": 64,
   "id": "6a600b93-375c-4ae5-8ed9-84821a2c3175",
   "metadata": {
    "tags": []
   },
   "outputs": [
    {
     "name": "stdout",
     "output_type": "stream",
     "text": [
      "['AngII', 'AT1R', 'Nox4', 'ROS', 'ET1', 'PKCa', 'TGFB', 'TGFBR', 'smad2_3', 'FGF', 'PDGF', 'PDGFR', 'cGMP', 'stiffness', 'stretch', 'B3int', 'calcineurin', 'NFAT', 'IL6', 'TNFa', 'TNFaR', 'NFKB', 'PI3K', 'Akt', 'p38', 'ASK1', 'JNK1_2', 'ERK1_2', 'migration', 'proliferation', 'aSMA', 'aSMAmRNA', 'AP1', 'TIMP1', 'MMP2', 'MMP9', 'fibmRNA', 'fibronectin', 'CImRNA', 'CIIImRNA', 'CI', 'CIII', 'LOXmRNA', 'PDE1A', 'LRP8', 'PPARg', 'miR130_301', 'OCT4', 'YAP_TAZ', 'MST1_2', 'LATS1_2', 'syndecan4', 'clOPN', 'hypoxia', 'HIF1a', 'Notch1_3', 'HERP1_2', 'NO', 'elastinmRNA', 'elastin', 'LOX', 'NICD', 'proMMP2', 'proMMP9', 'latentTGFB', 'TAK1', 'Ras', 'TRP', 'Ca']\n",
      "YAP_TAZ\n"
     ]
    },
    {
     "data": {
      "image/png": "[encoded data removed]",
      "text/plain": [
       "<Figure size 640x480 with 1 Axes>"
      ]
     },
     "metadata": {},
     "output_type": "display_data"
    },
    {
     "name": "stdout",
     "output_type": "stream",
     "text": [
      "0.08770243994250503\n"
     ]
    }
   ],
   "source": [
    "print(node_ID)\n",
    "i=48\n",
    "print(node_ID[i])\n",
    "plt.plot(simu_data[:,i])\n",
    "plt.show()\n",
    "print(simu_data[14399,i])"
   ]
  },
  {
   "cell_type": "code",
   "execution_count": 65,
   "id": "248da94f-934c-4b01-9a8f-7e08c59a9ca0",
   "metadata": {
    "tags": []
   },
   "outputs": [],
   "source": [
    "gene_set = ['aSMAmRNA', 'fibmRNA', 'CImRNA', 'CIIImRNA', 'LOXmRNA', 'elastinmRNA']"
   ]
  },
  {
   "cell_type": "code",
   "execution_count": 66,
   "id": "1f4c8eb9-f56f-4a63-a8d8-269fcf1790fc",
   "metadata": {
    "tags": []
   },
   "outputs": [],
   "source": [
    "validation = [\n",
    "    {'input': {'stretch': 0.7, 'stiffness': 0.25}, 'results': [1,0,1,1,1,1]},\n",
    "    {'input': {'stretch': 0.25, 'stiffness': 0.7}, 'results': [1,1,1,1,1,1]},\n",
    "    {'input': {'stretch': 0.7, 'stiffness': 0.7}, 'results': [1,1,1,1,1,1]}\n",
    "]"
   ]
  },
  {
   "cell_type": "code",
   "execution_count": 67,
   "id": "427f6653-d2ea-465f-a949-b2aa95a6eb60",
   "metadata": {
    "tags": []
   },
   "outputs": [],
   "source": [
    "val = validation[0]\n",
    "reaction_dict['stretch']['=> stretch'][0] = 0.7 #val['input']['stretch']\n",
    "reaction_dict['stiffness']['=> stiffness'][0] = 0.25 #val['input']['stiffness']"
   ]
  },
  {
   "cell_type": "code",
   "execution_count": 68,
   "id": "efb3dc04-4bbc-4595-882d-219734336e45",
   "metadata": {
    "tags": []
   },
   "outputs": [
    {
     "name": "stdout",
     "output_type": "stream",
     "text": [
      "aSMAmRNA\n",
      "fibmRNA\n",
      "CImRNA\n",
      "CIIImRNA\n",
      "LOXmRNA\n"
     ]
    }
   ],
   "source": [
    "new_data = odeint(inte, state0, t, args = (reaction_dict, ))\n",
    "for each in range(len(gene_set)):\n",
    "    total += 1\n",
    "    ind = node_ID.index(gene_set[each])\n",
    "    if abs(new_data[-1, ind] - simu_data[-1, ind]) < 0.05 and val['results'][each] == 0:\n",
    "        result += 1\n",
    "        print(gene_set[each])\n",
    "    elif new_data[-1, ind] - simu_data[-1, ind] >= 0.05 and val['results'][each] == 1:\n",
    "        result += 1\n",
    "        print(gene_set[each])"
   ]
  },
  {
   "cell_type": "code",
   "execution_count": 69,
   "id": "beaa738f-722d-4f8c-8e57-ee6bb4691199",
   "metadata": {
    "tags": []
   },
   "outputs": [
    {
     "name": "stdout",
     "output_type": "stream",
     "text": [
      "aSMAmRNA 0.9995173879487853 0.22001184170416394\n",
      "fibmRNA 0.9649254554111985 0.020300842041741363\n",
      "CImRNA 0.9997369842651291 0.09194214872240294\n",
      "CIIImRNA 0.9997369842651291 0.09194214872240294\n",
      "LOXmRNA 0.9108081625655173 0.004057539623190629\n",
      "elastinmRNA 0.9996104818654619 0.8987626966116595\n"
     ]
    }
   ],
   "source": [
    "reaction_dict['stretch']['=> stretch'][0] = 0.25 #val['input']['stretch']\n",
    "reaction_dict['stiffness']['=> stiffness'][0] = 0.9 #val['input']['stiffness']\n",
    "new_data = odeint(inte, state0, t, args = (reaction_dict, ))\n",
    "for i in gene_set:\n",
    "    print(i, new_data[-1, node_ID.index(i)], simu_data[-1, node_ID.index(i)])\n",
    "reaction_dict['stretch']['=> stretch'][0] = 0.25\n",
    "reaction_dict['stiffness']['=> stiffness'][0] = 0.25"
   ]
  },
  {
   "cell_type": "code",
   "execution_count": 89,
   "id": "0e152731-9048-4461-81a2-75a491a234b2",
   "metadata": {
    "tags": []
   },
   "outputs": [
    {
     "name": "stdout",
     "output_type": "stream",
     "text": [
      "['AngII', 'AT1R', 'Nox4', 'ROS', 'ET1', 'PKCa', 'TGFB', 'TGFBR', 'smad2_3', 'FGF', 'PDGF', 'PDGFR', 'cGMP', 'stiffness', 'stretch', 'B3int', 'calcineurin', 'NFAT', 'IL6', 'TNFa', 'TNFaR', 'NFKB', 'PI3K', 'Akt', 'p38', 'ASK1', 'JNK1_2', 'ERK1_2', 'migration', 'proliferation', 'aSMA', 'aSMAmRNA', 'AP1', 'TIMP1', 'MMP2', 'MMP9', 'fibmRNA', 'fibronectin', 'CImRNA', 'CIIImRNA', 'CI', 'CIII', 'LOXmRNA', 'PDE1A', 'LRP8', 'PPARg', 'miR130_301', 'OCT4', 'YAP_TAZ', 'MST1_2', 'LATS1_2', 'syndecan4', 'clOPN', 'hypoxia', 'HIF1a', 'Notch1_3', 'HERP1_2', 'NO', 'elastinmRNA', 'elastin', 'LOX', 'NICD', 'proMMP2', 'proMMP9', 'latentTGFB', 'TAK1', 'Ras', 'TRP', 'Ca']\n",
      "YAP_TAZ\n"
     ]
    },
    {
     "data": {
      "image/png": "[encoded data removed]",
      "text/plain": [
       "<Figure size 640x480 with 1 Axes>"
      ]
     },
     "metadata": {},
     "output_type": "display_data"
    },
    {
     "name": "stdout",
     "output_type": "stream",
     "text": [
      "0.8058412712424057\n"
     ]
    }
   ],
   "source": [
    "print(node_ID)\n",
    "i=48\n",
    "print(node_ID[i])\n",
    "plt.plot(new_data[:,i])\n",
    "plt.show()\n",
    "print(new_data[14399,i])"
   ]
  },
  {
   "cell_type": "code",
   "execution_count": null,
   "id": "eda5754b-2080-42a0-bf3f-79c7ba3eb428",
   "metadata": {},
   "outputs": [],
   "source": []
  },
  {
   "cell_type": "code",
   "execution_count": null,
   "id": "f7da5382-47b2-4543-a127-c71e66fdf85a",
   "metadata": {},
   "outputs": [],
   "source": []
  }
 ],
 "metadata": {
  "kernelspec": {
   "display_name": "Python 3 (ipykernel)",
   "language": "python",
   "name": "python3"
  },
  "language_info": {
   "codemirror_mode": {
    "name": "ipython",
    "version": 3
   },
   "file_extension": ".py",
   "mimetype": "text/x-python",
   "name": "python",
   "nbconvert_exporter": "python",
   "pygments_lexer": "ipython3",
   "version": "3.7.2"
  }
 },
 "nbformat": 4,
 "nbformat_minor": 5
}
